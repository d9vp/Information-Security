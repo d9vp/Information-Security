{
  "nbformat": 4,
  "nbformat_minor": 0,
  "metadata": {
    "colab": {
      "provenance": []
    },
    "kernelspec": {
      "name": "python3",
      "display_name": "Python 3"
    },
    "language_info": {
      "name": "python"
    }
  },
  "cells": [
    {
      "cell_type": "markdown",
      "source": [
        "Dev Patel - 60009200016\n",
        "\n",
        "IS - Experiment 4 (Scaled down DES)"
      ],
      "metadata": {
        "id": "kc4xhQXTyxul"
      }
    },
    {
      "cell_type": "code",
      "source": [
        "s1 = [[14, 4, 13, 1, 2, 15, 11, 8, 3, 10, 6, 12, 5, 9, 0, 7],\n",
        "\t\t [0, 15, 7, 4, 14, 2, 13, 1, 10, 6, 12, 11, 9, 5, 3, 8],\n",
        "\t\t [4, 1, 14, 8, 13, 6, 2, 11, 15, 12, 9, 7, 3, 10, 5, 0],\n",
        "\t\t [15, 12, 8, 2, 4, 9, 1, 7, 5, 11, 3, 14, 10, 0, 6, 13]]\n",
        "s2 = [[15, 1, 8, 14, 6, 11, 3, 4, 9, 7, 2, 13, 12, 0, 5, 10],\n",
        "\t\t [3, 13, 4, 7, 15, 2, 8, 14, 12, 0, 1, 10, 6, 9, 11, 5],\n",
        "\t\t [0, 14, 7, 11, 10, 4, 13, 1, 5, 8, 12, 6, 9, 3, 2, 15],\n",
        "\t\t [13, 8, 10, 1, 3, 15, 4, 2, 11, 6, 7, 12, 0, 5, 14, 9]]"
      ],
      "metadata": {
        "id": "rTOfehzRStBP"
      },
      "execution_count": null,
      "outputs": []
    },
    {
      "cell_type": "code",
      "source": [
        "def expansion(rpt): #Expands 32 bit rpt to a 48 bit output\n",
        "  input = ''\n",
        "  for i in range (len(rpt)):\n",
        "    if (i%4==0):\n",
        "      input= input + rpt[i-1]\n",
        "    elif (i%4==3):\n",
        "      input= input + rpt[(i+1)%len(rpt)]\n",
        "    input= input + rpt[i]\n",
        "  return input"
      ],
      "metadata": {
        "id": "KrnNqmP78pBQ"
      },
      "execution_count": null,
      "outputs": []
    },
    {
      "cell_type": "code",
      "source": [
        "def xor_w_key(ip,key): # XORs 48 bit input with the 48 bit key\n",
        "  xor_out=''\n",
        "  for i in range(48):\n",
        "    xor_out += str(int(ip[i])^int(key[i]))\n",
        "  return xor_out"
      ],
      "metadata": {
        "id": "GUfaUOhi9e3-"
      },
      "execution_count": null,
      "outputs": []
    },
    {
      "cell_type": "code",
      "source": [
        "def xor_w_lpt(s1_out,lpt): # XORs 32 bit input with 32 lpt\n",
        "  xor_out=''\n",
        "  for i in range(32):\n",
        "    xor_out += str(int(s1_out[i])^int(lpt[i]))\n",
        "  return xor_out"
      ],
      "metadata": {
        "id": "Hh5rokbG_aJr"
      },
      "execution_count": null,
      "outputs": []
    },
    {
      "cell_type": "code",
      "source": [
        "def s_box_sub(xor_out,s_table): # S-box substitution to convert 48 bit input to 32 bit output\n",
        "  start=0\n",
        "  s1_out=''\n",
        "  for i in range(8):\n",
        "    end = start+6\n",
        "    temp = xor_out[start:end]              # divide into batches of 6 bits\n",
        "    start = end\n",
        "    row = '0b'+temp[0]+temp[5]             # row number is the first and last bit of the batch of 6\n",
        "    col = '0b'+temp[1:5]                   # column number is the 2nd, 3rd, 4th, 5th bit of the batch of 6\n",
        "    # print(int(row,2),int(col,2))\n",
        "    s_val = s_table[int(row,2)][int(col,2)]\n",
        "\n",
        "    bin_s = bin(s_val)\n",
        "    bin_s = bin_s.replace(\"0b\",'')         \n",
        "    bin_s = bin_s.zfill(4)\n",
        "    s1_out+=bin_s                          # convert the value obtained in s-table to its binary form\n",
        "  return s1_out\n"
      ],
      "metadata": {
        "id": "ZoWGp7ON97N2"
      },
      "execution_count": null,
      "outputs": []
    },
    {
      "cell_type": "code",
      "execution_count": null,
      "metadata": {
        "id": "mXSaXjpIzGMY"
      },
      "outputs": [],
      "source": [
        "def des(pt,key1,key2):\n",
        "  # Divide the 64-bit plain text to 32-bit lpt and 32-bit rpt\n",
        "  lpt = pt[2:34]   #Start from 2 as the first two index has '0b' as we converted hexadecimal to binary\n",
        "  rpt = pt[34:]\n",
        "\n",
        "  # Expand 32 bit rpt to 48 bits and XOR output with key 1\n",
        "  input = expansion(rpt)\n",
        "  xor_out= xor_w_key(input,key1)\n",
        "  # Using table s1, converting 48 bit input to 32 bit output which is XORed with 32-bit lpt\n",
        "  s1_out = s_box_sub(xor_out,s1)\n",
        "  xor_out = xor_w_lpt(s1_out,lpt)\n",
        "  # The output is now lpt and our original lpt is now rpt\n",
        "  rpt,lpt = lpt,xor_out\n",
        "\n",
        "  # We carry out the same steps for key 2\n",
        "  input = expansion(rpt)\n",
        "  xor_out= xor_w_key(input,key2)\n",
        "  \n",
        "  s2_out = s_box_sub(xor_out,s2)\n",
        "  xor_out = xor_w_lpt(s2_out,lpt)\n",
        "  \n",
        "  rpt,lpt = lpt,xor_out\n",
        "  #Combine lpt rpt to get the required cipher text\n",
        "  ct = lpt+rpt           \n",
        "  return ct   "
      ]
    },
    {
      "cell_type": "code",
      "source": [
        "hexa = 0xFFFFFFFFFFFFFFFF\n",
        "k1='010101010101010101010101010101010101010101010101'\n",
        "k2='101010101010101010101010101010101010101010101010'\n",
        "\n",
        "ct = des(bin(hexa),k1,k2)\n",
        "print(\"Plain text: \",bin(hexa))\n",
        "print(\"Key 1: \",k1) \n",
        "print(\"Key 2: \",k2) \n",
        "print(\"Cipher text: \",ct) "
      ],
      "metadata": {
        "colab": {
          "base_uri": "https://localhost:8080/"
        },
        "id": "2L4N6Ablzkus",
        "outputId": "dc3ea025-a9a3-42ec-d9e4-7ff7fbe0f4c2"
      },
      "execution_count": null,
      "outputs": [
        {
          "output_type": "stream",
          "name": "stdout",
          "text": [
            "Plain text:  0b1111111111111111111111111111111111111111111111111111111111111111\n",
            "Key 1:  010101010101010101010101010101010101010101010101\n",
            "Key 2:  101010101010101010101010101010101010101010101010\n",
            "Cipher text:  1000100010001000100010001000100010011001100110011001100110011001\n"
          ]
        }
      ]
    }
  ]
}