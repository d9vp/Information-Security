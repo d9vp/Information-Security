{
  "nbformat": 4,
  "nbformat_minor": 0,
  "metadata": {
    "colab": {
      "provenance": []
    },
    "kernelspec": {
      "name": "python3",
      "display_name": "Python 3"
    },
    "language_info": {
      "name": "python"
    }
  },
  "cells": [
    {
      "cell_type": "code",
      "source": [
        "from math import pow"
      ],
      "metadata": {
        "id": "Lqh6ggYVRgma"
      },
      "execution_count": 1,
      "outputs": []
    },
    {
      "cell_type": "code",
      "source": [
        "def DH(p,g,a,b):\n",
        "  ax = pow(g,a)%p\n",
        "  bx = pow(g,b)%p\n",
        "  ka = pow(bx,a)%p\n",
        "  kb = pow(ax,b)%p\n",
        "  print(\"Key with A: \",int(ka))\n",
        "  print(\"Key with B: \",int(kb))"
      ],
      "metadata": {
        "id": "vRZMKK8YRjn-"
      },
      "execution_count": 2,
      "outputs": []
    },
    {
      "cell_type": "code",
      "source": [
        "DH(23,9,4,3)"
      ],
      "metadata": {
        "colab": {
          "base_uri": "https://localhost:8080/"
        },
        "id": "vFlYXHt0RkoU",
        "outputId": "e9676384-a517-4561-e13b-9aa0ab1894af"
      },
      "execution_count": 3,
      "outputs": [
        {
          "output_type": "stream",
          "name": "stdout",
          "text": [
            "Key with A:  9\n",
            "Key with B:  9\n"
          ]
        }
      ]
    },
    {
      "cell_type": "markdown",
      "source": [
        "Thus, both A and B can carry out their communication using the shared common key '9' without having to explicitly share the key."
      ],
      "metadata": {
        "id": "9IsVJ2NzRohS"
      }
    }
  ]
}