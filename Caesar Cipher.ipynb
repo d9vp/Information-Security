{
  "nbformat": 4,
  "nbformat_minor": 0,
  "metadata": {
    "colab": {
      "provenance": [],
      "collapsed_sections": []
    },
    "kernelspec": {
      "name": "python3",
      "display_name": "Python 3"
    },
    "language_info": {
      "name": "python"
    }
  },
  "cells": [
    {
      "cell_type": "markdown",
      "source": [
        "#Information Security\n",
        "##Experiment 1 (Caesar Cipher Algorithm)\n",
        "\n",
        "Name: Dev Patel                                                              SAP ID: 60009200016\n",
        "\n",
        "Batch: K/K1 \n",
        "                                                                             Date: 23/09/2022\n"
      ],
      "metadata": {
        "id": "PRhjWhAu5i-l"
      }
    },
    {
      "cell_type": "code",
      "execution_count": 1,
      "metadata": {
        "colab": {
          "base_uri": "https://localhost:8080/",
          "height": 36
        },
        "id": "aColso_mn4hR",
        "outputId": "3efef920-ce1f-40e3-98c7-a6e435bce340"
      },
      "outputs": [
        {
          "output_type": "execute_result",
          "data": {
            "text/plain": [
              "'VHFXULWB'"
            ],
            "application/vnd.google.colaboratory.intrinsic+json": {
              "type": "string"
            }
          },
          "metadata": {},
          "execution_count": 1
        }
      ],
      "source": [
        "def caesar_cipher_enc(text, key=3):\n",
        "  string=''\n",
        "  for i in text:                # Parsing through the string character by character\n",
        "    if i.isalpha():             # For a character if it is an alphabet\n",
        "      if i.isupper():           # For an upper case character\n",
        "        temp= (ord(i)-65+key)%26\n",
        "        temp=temp+65\n",
        "      else:                     # For a lower case character\n",
        "        temp= (ord(i)-97+key)%26\n",
        "        temp=temp+97\n",
        "      string=string+chr(temp)\n",
        "    elif i.isdigit():           # For a character if it is a digit\n",
        "      temp= (ord(i)-48+key)%10\n",
        "      temp=temp+48\n",
        "      string=string+chr(temp)\n",
        "    else:                       # For special characters and spaces\n",
        "    #   temp= (ord(i)-32+key)%16\n",
        "    #   temp=temp+32\n",
        "      string=string+i\n",
        "  return string\n",
        "\n",
        "caesar_cipher_enc(\"SECURITY\")"
      ]
    },
    {
      "cell_type": "code",
      "source": [
        "def caesar_cipher_dec(text, key=3):\n",
        "  string=''\n",
        "  for i in text:                    # Parsing through the string character by character\n",
        "    if i.isalpha():                 # For a character if it is an alphabet\n",
        "      if i.isupper():               # For an upper case character\n",
        "        temp= (ord(i)-65-key+26)%26\n",
        "        temp=temp+65\n",
        "      else:                         # For a lower case character\n",
        "        temp= (ord(i)-97-key+26)%26\n",
        "        temp=temp+97\n",
        "      string=string+chr(temp)\n",
        "    elif i.isdigit():               # For a character if it is a digit\n",
        "      temp= (ord(i)-48-key+10)%10\n",
        "      temp=temp+48\n",
        "      string=string+chr(temp) \n",
        "    else:                           # For special characters and spaces\n",
        "    #   temp= (ord(i)-32-key+16)%16\n",
        "    #   temp=temp+32\n",
        "      string=string+i\n",
        "  return string\n",
        "\n",
        "caesar_cipher_dec('VHFXULWB')"
      ],
      "metadata": {
        "colab": {
          "base_uri": "https://localhost:8080/",
          "height": 36
        },
        "id": "PXLlevAlozBF",
        "outputId": "831f05f4-9ff7-4500-9064-8db20d37497c"
      },
      "execution_count": 2,
      "outputs": [
        {
          "output_type": "execute_result",
          "data": {
            "text/plain": [
              "'SECURITY'"
            ],
            "application/vnd.google.colaboratory.intrinsic+json": {
              "type": "string"
            }
          },
          "metadata": {},
          "execution_count": 2
        }
      ]
    },
    {
      "cell_type": "code",
      "source": [
        "#Sample1: guvf fhowrpg vf ernyyl vagrerfgvat  :  Key=13\n",
        "#Sample2: vkrmhzktiarftdxlmaxmxqmkhunlm       :  Key=19\n",
        "\n",
        "def bruteforce(text):\n",
        "  for i in range(26):\n",
        "    print(f\"\\nFor key={i}: Decrypted Text:\",end='\\t')\n",
        "    print(caesar_cipher_dec(text,i))\n",
        "    \n",
        "text=input(\"Enter text: \")\n",
        "bruteforce(text)"
      ],
      "metadata": {
        "colab": {
          "base_uri": "https://localhost:8080/"
        },
        "id": "qIPX_yrdryvr",
        "outputId": "7369af53-7899-46c8-9c2e-b5033b84d823"
      },
      "execution_count": 3,
      "outputs": [
        {
          "output_type": "stream",
          "name": "stdout",
          "text": [
            "Enter text: guvf fhowrpg vf ernyyl vagrerfgvat\n",
            "\n",
            "For key=0: Decrypted Text:\tguvf fhowrpg vf ernyyl vagrerfgvat\n",
            "\n",
            "For key=1: Decrypted Text:\tftue egnvqof ue dqmxxk uzfqdqefuzs\n",
            "\n",
            "For key=2: Decrypted Text:\testd dfmupne td cplwwj tyepcpdetyr\n",
            "\n",
            "For key=3: Decrypted Text:\tdrsc celtomd sc bokvvi sxdobocdsxq\n",
            "\n",
            "For key=4: Decrypted Text:\tcqrb bdksnlc rb anjuuh rwcnanbcrwp\n",
            "\n",
            "For key=5: Decrypted Text:\tbpqa acjrmkb qa zmittg qvbmzmabqvo\n",
            "\n",
            "For key=6: Decrypted Text:\taopz zbiqlja pz ylhssf pualylzapun\n",
            "\n",
            "For key=7: Decrypted Text:\tznoy yahpkiz oy xkgrre otzkxkyzotm\n",
            "\n",
            "For key=8: Decrypted Text:\tymnx xzgojhy nx wjfqqd nsyjwjxynsl\n",
            "\n",
            "For key=9: Decrypted Text:\txlmw wyfnigx mw vieppc mrxiviwxmrk\n",
            "\n",
            "For key=10: Decrypted Text:\twklv vxemhfw lv uhdoob lqwhuhvwlqj\n",
            "\n",
            "For key=11: Decrypted Text:\tvjku uwdlgev ku tgcnna kpvgtguvkpi\n",
            "\n",
            "For key=12: Decrypted Text:\tuijt tvckfdu jt sfbmmz joufsftujoh\n",
            "\n",
            "For key=13: Decrypted Text:\tthis subject is really interesting\n",
            "\n",
            "For key=14: Decrypted Text:\tsghr rtaidbs hr qdzkkx hmsdqdrshmf\n",
            "\n",
            "For key=15: Decrypted Text:\trfgq qszhcar gq pcyjjw glrcpcqrgle\n",
            "\n",
            "For key=16: Decrypted Text:\tqefp prygbzq fp obxiiv fkqbobpqfkd\n",
            "\n",
            "For key=17: Decrypted Text:\tpdeo oqxfayp eo nawhhu ejpanaopejc\n",
            "\n",
            "For key=18: Decrypted Text:\tocdn npwezxo dn mzvggt diozmznodib\n",
            "\n",
            "For key=19: Decrypted Text:\tnbcm movdywn cm lyuffs chnylymncha\n",
            "\n",
            "For key=20: Decrypted Text:\tmabl lnucxvm bl kxteer bgmxkxlmbgz\n",
            "\n",
            "For key=21: Decrypted Text:\tlzak kmtbwul ak jwsddq aflwjwklafy\n",
            "\n",
            "For key=22: Decrypted Text:\tkyzj jlsavtk zj ivrccp zekvivjkzex\n",
            "\n",
            "For key=23: Decrypted Text:\tjxyi ikrzusj yi huqbbo ydjuhuijydw\n",
            "\n",
            "For key=24: Decrypted Text:\tiwxh hjqytri xh gtpaan xcitgthixcv\n",
            "\n",
            "For key=25: Decrypted Text:\thvwg gipxsqh wg fsozzm wbhsfsghwbu\n"
          ]
        }
      ]
    },
    {
      "cell_type": "markdown",
      "source": [
        "As the sentence with key 13 makes sense, the key originally must have been 13."
      ],
      "metadata": {
        "id": "Ii_Kn-sw85_l"
      }
    },
    {
      "cell_type": "code",
      "source": [
        "# For user defined input\n",
        "\n",
        "key=int(input(\"Enter key: \"))\n",
        "text=input(\"Enter text: \")\n",
        "print(\"Encrypted Text: \",end='')\n",
        "caesar_cipher_enc(text,key)"
      ],
      "metadata": {
        "colab": {
          "base_uri": "https://localhost:8080/",
          "height": 70
        },
        "id": "IhBQEK9asdk3",
        "outputId": "4825c4c3-87fa-4fc6-e290-902553b978ef"
      },
      "execution_count": 5,
      "outputs": [
        {
          "output_type": "stream",
          "name": "stdout",
          "text": [
            "Enter key: 8\n",
            "Enter text: Information Security\n",
            "Encrypted Text: "
          ]
        },
        {
          "output_type": "execute_result",
          "data": {
            "text/plain": [
              "'Qvnwzuibqwv Amkczqbg'"
            ],
            "application/vnd.google.colaboratory.intrinsic+json": {
              "type": "string"
            }
          },
          "metadata": {},
          "execution_count": 5
        }
      ]
    }
  ]
}