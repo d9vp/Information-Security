{
  "nbformat": 4,
  "nbformat_minor": 0,
  "metadata": {
    "colab": {
      "provenance": []
    },
    "kernelspec": {
      "name": "python3",
      "display_name": "Python 3"
    },
    "language_info": {
      "name": "python"
    }
  },
  "cells": [
    {
      "cell_type": "markdown",
      "source": [
        "Encryption"
      ],
      "metadata": {
        "id": "ZOos0m4RP0lm"
      }
    },
    {
      "cell_type": "code",
      "execution_count": 3,
      "metadata": {
        "id": "GkWk1onuPtsb"
      },
      "outputs": [],
      "source": [
        "def vignere(pt,key):\n",
        "  pt=pt.upper()\n",
        "  key=key.upper()\n",
        "  # print(pt)\n",
        "  diff=len(pt)-len(key)\n",
        "  if(diff>0):\n",
        "    for i in range(diff):\n",
        "      key=key+key[i%len(key)]\n",
        "  print(pt,key)\n",
        "  ct=''\n",
        "  for i in range(len(pt)):\n",
        "    temp=65+(ord(pt[i])+ord(key[i]))%26\n",
        "    # print(temp)\n",
        "    ct= ct + (chr)(temp)\n",
        "  return ct"
      ]
    },
    {
      "cell_type": "markdown",
      "source": [
        "Decryption"
      ],
      "metadata": {
        "id": "-_jh7fjLP5gv"
      }
    },
    {
      "cell_type": "code",
      "source": [
        "def decVignere(ct,key):\n",
        "  ct = ct.upper()\n",
        "  key = key.upper()\n",
        "  diff = len(ct)-len(key)\n",
        "  for i in range(diff):\n",
        "    key+= key[i%len(key)]\n",
        "  print(ct,key)\n",
        "  pt=''\n",
        "  for i in range(len(ct)):\n",
        "    temp = 65 + (ord(ct[i])-ord(key[i])+26)%26\n",
        "    pt+=chr(temp)\n",
        "  return pt"
      ],
      "metadata": {
        "id": "zRbQOO9QP2xo"
      },
      "execution_count": 4,
      "outputs": []
    },
    {
      "cell_type": "code",
      "source": [
        "ct = vignere(\"INFORMATIONSECURITY\",\"PATEL\")\n",
        "ct"
      ],
      "metadata": {
        "colab": {
          "base_uri": "https://localhost:8080/",
          "height": 53
        },
        "id": "ORq49vH7P7Kk",
        "outputId": "80bf3caa-3020-4b13-b619-ddae3a0a2f7b"
      },
      "execution_count": 5,
      "outputs": [
        {
          "output_type": "stream",
          "name": "stdout",
          "text": [
            "INFORMATIONSECURITY PATELPATELPATELPATE\n"
          ]
        },
        {
          "output_type": "execute_result",
          "data": {
            "text/plain": [
              "'XNYSCBAMMZCSXGFGIMC'"
            ],
            "application/vnd.google.colaboratory.intrinsic+json": {
              "type": "string"
            }
          },
          "metadata": {},
          "execution_count": 5
        }
      ]
    },
    {
      "cell_type": "code",
      "source": [
        "pt = decVignere(ct,\"PATEL\")\n",
        "pt"
      ],
      "metadata": {
        "id": "IGv8WB7FQHIs",
        "outputId": "74c28f15-7c3b-481d-b316-504f44ea4444",
        "colab": {
          "base_uri": "https://localhost:8080/",
          "height": 53
        }
      },
      "execution_count": 6,
      "outputs": [
        {
          "output_type": "stream",
          "name": "stdout",
          "text": [
            "XNYSCBAMMZCSXGFGIMC PATELPATELPATELPATE\n"
          ]
        },
        {
          "output_type": "execute_result",
          "data": {
            "text/plain": [
              "'INFORMATIONSECURITY'"
            ],
            "application/vnd.google.colaboratory.intrinsic+json": {
              "type": "string"
            }
          },
          "metadata": {},
          "execution_count": 6
        }
      ]
    }
  ]
}