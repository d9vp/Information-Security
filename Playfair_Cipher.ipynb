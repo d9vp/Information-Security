{
  "nbformat": 4,
  "nbformat_minor": 0,
  "metadata": {
    "colab": {
      "provenance": []
    },
    "kernelspec": {
      "name": "python3",
      "display_name": "Python 3"
    },
    "language_info": {
      "name": "python"
    }
  },
  "cells": [
    {
      "cell_type": "code",
      "source": [
        "def index2d(x,mat):\n",
        "  for i in range(5):\n",
        "    if(x in mat[i]):\n",
        "      return i,mat[i].index(x)"
      ],
      "metadata": {
        "id": "4l8RuSP3Qd5j"
      },
      "execution_count": 1,
      "outputs": []
    },
    {
      "cell_type": "markdown",
      "source": [
        "Encryption"
      ],
      "metadata": {
        "id": "ZOos0m4RP0lm"
      }
    },
    {
      "cell_type": "code",
      "source": [
        "def conditions(listpt,mat):\n",
        "  print(listpt)\n",
        "  indx1,indy1 = index2d(listpt[0],mat)\n",
        "  indx2,indy2 = index2d(listpt[1],mat)\n",
        "  print(indx1,indx2,indy1,indy2)\n",
        "  if (indx1==indx2):\n",
        "    return(mat[indx1][(indy1+1)%5],mat[indx2][(indy2+1)%5])\n",
        "  elif (indy1==indy2):\n",
        "    return(mat[(indx1+1)%5][indy1],mat[(indx2+1)%5][indy2])\n",
        "  else:\n",
        "    return(mat[indx1][indy2],mat[indx2][indy1])"
      ],
      "metadata": {
        "id": "q7IBTdMfQgaY"
      },
      "execution_count": 2,
      "outputs": []
    },
    {
      "cell_type": "code",
      "execution_count": 3,
      "metadata": {
        "id": "GkWk1onuPtsb"
      },
      "outputs": [],
      "source": [
        "def playfair(pt,key):\n",
        "  listalpha=[chr(i) for i in range(65,91)]\n",
        "  print(listalpha)\n",
        "  pt=pt.upper()\n",
        "  key=key.upper()\n",
        "  if('J' not in key):\n",
        "    listalpha.remove('J')\n",
        "    pt.replace('J','I')\n",
        "  elif ('Y' not in key):\n",
        "    listalpha.remove('Y')\n",
        "    pt.replace('Y','X')\n",
        "\n",
        "  mat=[[],[],[],[],[]]\n",
        "  charnow=65\n",
        "  count=0\n",
        "  for i in range(5):\n",
        "    j=0\n",
        "    while(j<5):\n",
        "      # print(i,j,mat)\n",
        "      if count<len(key):\n",
        "        if (key[count] in listalpha):\n",
        "          mat[i].append(key[count])\n",
        "          listalpha.remove(key[count])\n",
        "          j+=1\n",
        "        count+=1\n",
        "      else:\n",
        "        tempchar=chr(charnow)\n",
        "        if (tempchar in listalpha):\n",
        "          mat[i].append(tempchar)\n",
        "          listalpha.remove(tempchar)\n",
        "          j+=1\n",
        "        charnow+=1\n",
        "  listpt=[]\n",
        "  tlist=[]\n",
        "  for i in range(len(pt)):\n",
        "    if(i%2==1):\n",
        "      tlist.append(pt[i])\n",
        "      listpt.append(tlist)\n",
        "      tlist=[]\n",
        "    else: tlist.append(pt[i])\n",
        "  if(len(pt)%2==1):\n",
        "    listpt.append([pt[-1],'Z'])\n",
        "  ct=''\n",
        "  for i in range(len(listpt)):\n",
        "    ct1,ct2=conditions(listpt[i],mat)\n",
        "    ct=ct+ct1+ct2\n",
        "  print(ct)\n",
        "  return ct\n"
      ]
    },
    {
      "cell_type": "markdown",
      "source": [
        "Decryption"
      ],
      "metadata": {
        "id": "-_jh7fjLP5gv"
      }
    },
    {
      "cell_type": "code",
      "source": [
        "def conditions(listpt,mat):\n",
        "  print(listpt)\n",
        "  indx1,indy1 = index2d(listpt[0],mat)\n",
        "  indx2,indy2 = index2d(listpt[1],mat)\n",
        "  print(indx1,indx2,indy1,indy2)\n",
        "  if (indx1==indx2):\n",
        "    return(mat[indx1][(indy1-1)%5],mat[indx2][(indy2-1)%5])\n",
        "  elif (indy1==indy2):\n",
        "    return(mat[(indx1-1)%5][indy1],mat[(indx2-1)%5][indy2])\n",
        "  else:\n",
        "    return(mat[indx1][indy2],mat[indx2][indy1])"
      ],
      "metadata": {
        "id": "axwktNobQ0pk"
      },
      "execution_count": 4,
      "outputs": []
    },
    {
      "cell_type": "code",
      "source": [
        "def decplayfair(pt,key):\n",
        "  listalpha=[chr(i) for i in range(65,91)]\n",
        "  print(listalpha)\n",
        "  pt=pt.upper()\n",
        "  key=key.upper()\n",
        "  if('J' not in key):\n",
        "    listalpha.remove('J')\n",
        "    pt.replace('J','I')\n",
        "  elif ('Y' not in key):\n",
        "    listalpha.remove('Y')\n",
        "    pt.replace('Y','X')\n",
        "\n",
        "  mat=[[],[],[],[],[]]\n",
        "  charnow=65\n",
        "  count=0\n",
        "  for i in range(5):\n",
        "    j=0\n",
        "    while(j<5):\n",
        "      # print(i,j,mat)\n",
        "      if count<len(key):\n",
        "        if (key[count] in listalpha):\n",
        "          mat[i].append(key[count])\n",
        "          listalpha.remove(key[count])\n",
        "          j+=1\n",
        "        count+=1\n",
        "      else:\n",
        "        tempchar=chr(charnow)\n",
        "        if (tempchar in listalpha):\n",
        "          mat[i].append(tempchar)\n",
        "          listalpha.remove(tempchar)\n",
        "          j+=1\n",
        "        charnow+=1\n",
        "        \n",
        "  listpt=[]\n",
        "  tlist=[]\n",
        "  for i in range(len(pt)):\n",
        "    if(i%2==1):\n",
        "      tlist.append(pt[i])\n",
        "      listpt.append(tlist)\n",
        "      tlist=[]\n",
        "    else: tlist.append(pt[i])\n",
        "  if(len(pt)%2==1):\n",
        "    listpt.append([pt[-1],'Z'])\n",
        "  ct=''\n",
        "  for i in range(len(listpt)):\n",
        "    ct1,ct2=conditions(listpt[i],mat)\n",
        "    # print(ct1,ct2)\n",
        "    ct=ct+ct1+ct2\n",
        "  print(ct)\n",
        "  if ct[-1]=='Z':\n",
        "    ct=ct[:-1]\n",
        "  return ct"
      ],
      "metadata": {
        "id": "zRbQOO9QP2xo"
      },
      "execution_count": 5,
      "outputs": []
    },
    {
      "cell_type": "code",
      "source": [
        "ct=playfair(\"hidethegold\",\"helloworld\")\n",
        "ct"
      ],
      "metadata": {
        "colab": {
          "base_uri": "https://localhost:8080/",
          "height": 278
        },
        "id": "ORq49vH7P7Kk",
        "outputId": "2fcdd34a-bf14-4d02-aa22-78f5c34ab4db"
      },
      "execution_count": 6,
      "outputs": [
        {
          "output_type": "stream",
          "name": "stdout",
          "text": [
            "['A', 'B', 'C', 'D', 'E', 'F', 'G', 'H', 'I', 'J', 'K', 'L', 'M', 'N', 'O', 'P', 'Q', 'R', 'S', 'T', 'U', 'V', 'W', 'X', 'Y', 'Z']\n",
            "['H', 'I']\n",
            "0 2 0 2\n",
            "['D', 'E']\n",
            "1 0 1 1\n",
            "['T', 'H']\n",
            "3 0 4 0\n",
            "['E', 'G']\n",
            "0 2 1 1\n",
            "['O', 'L']\n",
            "0 0 3 2\n",
            "['D', 'Z']\n",
            "1 4 1 4\n",
            "LFEVNWVDLECV\n"
          ]
        },
        {
          "output_type": "execute_result",
          "data": {
            "text/plain": [
              "'LFEVNWVDLECV'"
            ],
            "application/vnd.google.colaboratory.intrinsic+json": {
              "type": "string"
            }
          },
          "metadata": {},
          "execution_count": 6
        }
      ]
    },
    {
      "cell_type": "code",
      "source": [
        "pt=decplayfair(\"LFGDNWDPWOCV\",\"helloworld\")\n",
        "pt"
      ],
      "metadata": {
        "colab": {
          "base_uri": "https://localhost:8080/",
          "height": 278
        },
        "id": "IGv8WB7FQHIs",
        "outputId": "56ddc2c3-a714-442e-8380-fbaf8c8e6f61"
      },
      "execution_count": 7,
      "outputs": [
        {
          "output_type": "stream",
          "name": "stdout",
          "text": [
            "['A', 'B', 'C', 'D', 'E', 'F', 'G', 'H', 'I', 'J', 'K', 'L', 'M', 'N', 'O', 'P', 'Q', 'R', 'S', 'T', 'U', 'V', 'W', 'X', 'Y', 'Z']\n",
            "['L', 'F']\n",
            "0 2 2 0\n",
            "['G', 'D']\n",
            "2 1 1 1\n",
            "['N', 'W']\n",
            "3 0 0 4\n",
            "['D', 'P']\n",
            "1 3 1 1\n",
            "['W', 'O']\n",
            "0 0 4 3\n",
            "['C', 'V']\n",
            "1 4 4 1\n",
            "HIDETHEGOLDZ\n"
          ]
        },
        {
          "output_type": "execute_result",
          "data": {
            "text/plain": [
              "'HIDETHEGOLD'"
            ],
            "application/vnd.google.colaboratory.intrinsic+json": {
              "type": "string"
            }
          },
          "metadata": {},
          "execution_count": 7
        }
      ]
    }
  ]
}