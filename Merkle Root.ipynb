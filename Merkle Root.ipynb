{
  "nbformat": 4,
  "nbformat_minor": 0,
  "metadata": {
    "colab": {
      "provenance": []
    },
    "kernelspec": {
      "name": "python3",
      "display_name": "Python 3"
    },
    "language_info": {
      "name": "python"
    }
  },
  "cells": [
    {
      "cell_type": "code",
      "source": [
        "import hashlib                            # importing haslib module which contains hash functions such as MD5"
      ],
      "metadata": {
        "id": "K4wjAMImnY6j"
      },
      "execution_count": null,
      "outputs": []
    },
    {
      "cell_type": "code",
      "source": [
        "def isPowerOfTwo(n):                      # Funtion to check whether n(number) is a power of two or not, we will use it later\n",
        "    if (n == 0):\n",
        "      return False \n",
        "    while (n != 1):\n",
        "      if (n % 2 != 0):\n",
        "        return False \n",
        "      n = n // 2\n",
        "    return True"
      ],
      "metadata": {
        "id": "TBB9a8SxneK1"
      },
      "execution_count": null,
      "outputs": []
    },
    {
      "cell_type": "code",
      "execution_count": null,
      "metadata": {
        "id": "KxWdBrQHjzmO"
      },
      "outputs": [],
      "source": [
        "def merkleRoot(PT):\n",
        "  PT_list = [] \n",
        "  for char in PT:\n",
        "    PT_list.append(char)                  # Appending all characters of the input to list PT_list\n",
        "\n",
        "  PT_list = [PT_list[i:i+16] for i in range(0, len(PT_list), 16)]      # Dividing the list into 16 characters each sublist.\n",
        "\n",
        "  size = 0\n",
        "  if len(PT_list[-1])<16:                 # Check if the the last sublist contains 16 charackers or not\n",
        "    size = 16-len(PT_list[-1])            # Store the difference in size \n",
        "    for i in range(size):\n",
        "      PT_list[-1].append('0')             # Padding 0 to the end of the list\n",
        "\n",
        "  if isPowerOfTwo(len(PT_list))==False:   # Now checking if length of PT_list is is 2's power or not\n",
        "    k = 0\n",
        "    i = 0\n",
        "\n",
        "    while k<len(PT_list):                 # Taking k value which is of 2^k which just bigger than len(PT_list)\n",
        "      k = 2**i \n",
        "      i = i+1\n",
        "\n",
        "    k=k-len(PT_list)                      # Taking k - length of PT_list\n",
        "    empt = ['0']*16                       # Empty list of containing 16 zero padding\n",
        "\n",
        "    for i in range (0,k):\n",
        "      PT_list.append(empt)                # Append empty list of size 16 to PT_list\n",
        "\n",
        "  print() \n",
        "  print(\"Level 1\")\n",
        "  for i in range(0,len(PT_list)):         # For all sublist\n",
        "    PT_list[i] = ''.join(PT_list[i])      # Joining the elements of the sublist to start the hashing process\n",
        "    PT_list[i] = hashlib.md5(PT_list[i].encode(\"utf-8\")).hexdigest()    # converting the sublist to utf-8 encoding and apply hash function md5 and returning hex value\n",
        "    print(\"H(\"+str(i)+\")\",PT_list[i])     # Printing the hash\n",
        "\n",
        "  j=2\n",
        "  while len(PT_list)!=1:                  # Run the loop until there is one sublist left in the list\n",
        "    print()\n",
        "    print(\"Level\",j)\n",
        "    PT_list = [''.join(x) for x in zip(PT_list[0::2], PT_list[1::2])]   #Joining 2 hex strings like 1,2 ... 3,4 likewise \n",
        "\n",
        "    for i in range(0,len(PT_list)):\n",
        "      PT_list[i] = hashlib.md5(PT_list[i].encode(\"utf-8\")).hexdigest()  # Applying MD5 hash again\n",
        "      print(\"H(\"+str(i)+\")\",PT_list[i]) \n",
        "\n",
        "    j=j+1\n",
        "  return PT_list[0]                       # Returning the final hash value"
      ]
    },
    {
      "cell_type": "code",
      "source": [
        "PT = 'My name is Dev Patel. I study Information Security.'  \n",
        "print(PT,len(PT))\n",
        "hash = merkleRoot(PT)\n",
        "print(\"\\nThe Merkle root of the given plain text is: \",hash) "
      ],
      "metadata": {
        "colab": {
          "base_uri": "https://localhost:8080/"
        },
        "id": "K3lI-woNlZdR",
        "outputId": "a1db8264-02f7-45bd-ab12-a378236a09b0"
      },
      "execution_count": null,
      "outputs": [
        {
          "output_type": "stream",
          "name": "stdout",
          "text": [
            "My name is Dev Patel. I study Information Security. 51\n",
            "\n",
            "Level 1\n",
            "H(0) c1f4b8f538b7c788140c85ab6a0d79e0\n",
            "H(1) fb4d4d01f10bc282f16b2f6ecdf2483f\n",
            "H(2) c533800a1fba19a30da2f55d1059bb4c\n",
            "H(3) 72eb9c885f8c26f11fe77bde4d200161\n",
            "\n",
            "Level 2\n",
            "H(0) fe26637108fa35d15ed96230ad2253d6\n",
            "H(1) 4a2f3bb33a7771350edb3eb9a6184443\n",
            "\n",
            "Level 3\n",
            "H(0) 177a607404e4f40d3a9ee52c1b673d1b\n",
            "\n",
            "The Merkle root of the given plain text is:  177a607404e4f40d3a9ee52c1b673d1b\n"
          ]
        }
      ]
    }
  ]
}