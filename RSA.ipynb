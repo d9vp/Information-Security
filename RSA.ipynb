{
  "nbformat": 4,
  "nbformat_minor": 0,
  "metadata": {
    "colab": {
      "provenance": []
    },
    "kernelspec": {
      "name": "python3",
      "display_name": "Python 3"
    },
    "language_info": {
      "name": "python"
    }
  },
  "cells": [
    {
      "cell_type": "code",
      "source": [
        "def nearest_prime(n): #To find the nearest prime number from integer n\n",
        "  diff=0\n",
        "  flag=0\n",
        "  while(True):\n",
        "    flag=0\n",
        "    for i in range(2,n-diff):  #To check if n-diff is prime or not\n",
        "      if((n-diff)%i == 0):\n",
        "        flag=1\n",
        "        break\n",
        "    if(flag==0):\n",
        "      return(n-diff)\n",
        "\n",
        "    flag=0\n",
        "    for i in range(2,n+diff):  #To check if n+diff is prime or not\n",
        "      if((n+diff)%i == 0):\n",
        "        flag=1\n",
        "        break\n",
        "    if(flag==0):\n",
        "      return(n+diff)\n",
        "\n",
        "    if(flag!=0):               #If a prime number is not found yet then increase the diff value by 1 and check again\n",
        "      diff+=1\n",
        "      flag=0      "
      ],
      "metadata": {
        "id": "DD2tXQum722c"
      },
      "execution_count": null,
      "outputs": []
    },
    {
      "cell_type": "code",
      "source": [
        "def ext_euc(e,phi):                   #Carry out Extended Euclidean Algorithm\n",
        "  a = [1,0]\n",
        "  b = [0,1]\n",
        "  r = [phi,e]\n",
        "  k = ['-']\n",
        "  k.append(phi//e)\n",
        "  r.append(phi%e)\n",
        "\n",
        "  while(r[-1]!=1):                    #Carry out the process till the remainder becomes 1\n",
        "    a.append(a[-2] - a[-1]*k[-1])     #Using formula a(t)= a(t-2)- a(t-1)*k(t-1)\n",
        "    b.append(b[-2] - b[-1]*k[-1])     #Using formula b(t)= b(t-2)- b(t-1)*k(t-1)\n",
        "    k.append(r[-2]//r[-1])\n",
        "    r.append(r[-2]%r[-1])\n",
        "    # print(a,b,k,r)\n",
        "  \n",
        "  if(r[-1]==1):       \n",
        "    b.append(b[-2] - b[-1]*k[-1])\n",
        "    print(\"\\ta\\tb\\tquot\\trem\")        # To build Extended Euclidean Table\n",
        "    for i in range(len(k)):\n",
        "      print(f\"{i}\\t{a[i]}\\t{b[i]}\\t{k[i]}\\t{r[i]}\")\n",
        "    if(b[-1]<0):\n",
        "      return (b[-1]%phi)\n",
        "    else: return b[-1]\n",
        "# ext_euc(13,60)"
      ],
      "metadata": {
        "id": "Hhml70IzGka1"
      },
      "execution_count": null,
      "outputs": []
    },
    {
      "cell_type": "code",
      "source": [
        "def gcd(a,b):                        #Calculates GCD of 2 numbers a and b\n",
        "  if(b==0):\n",
        "    return a\n",
        "  r = a%b\n",
        "  return gcd(b,r)"
      ],
      "metadata": {
        "id": "zWxkJwEoDS8-"
      },
      "execution_count": null,
      "outputs": []
    },
    {
      "cell_type": "code",
      "source": [
        "def relatively_prime(phi,p,q):       # Finds a relatively prime number to phi for e which is not equal to p or q\n",
        "  for i in range(2,phi):\n",
        "    g = gcd(phi,i)\n",
        "    if (g==1):\n",
        "      if (i!=p and i!=q):\n",
        "        return i\n",
        "      "
      ],
      "metadata": {
        "id": "IUgLs4aWC6rx"
      },
      "execution_count": null,
      "outputs": []
    },
    {
      "cell_type": "code",
      "source": [
        "def encrypt(mes,e,n):                # Encrypts message mes using key formed by e and n\n",
        "  return ((mes**e)%n)"
      ],
      "metadata": {
        "id": "aCnUDfz0_qkv"
      },
      "execution_count": null,
      "outputs": []
    },
    {
      "cell_type": "code",
      "source": [
        "def decrypt(mes,d,n):                # Decrypts message mes using key formed by d and n\n",
        "  return ((mes**d)%n)"
      ],
      "metadata": {
        "id": "5WSWveJb_qnm"
      },
      "execution_count": null,
      "outputs": []
    },
    {
      "cell_type": "code",
      "execution_count": null,
      "metadata": {
        "id": "QTCrguiu7WU_"
      },
      "outputs": [],
      "source": [
        "def RSA(p,q,mes):                    # Carries out the RSA algorithm\n",
        "  m = len(p)                         # m and n are the lengths of the strings provided in p and q\n",
        "  n = len(q)\n",
        "  m_pr = nearest_prime(m)            # Finds nearest prime numbers to the length values of p and q\n",
        "  n_pr = nearest_prime(n)\n",
        "  \n",
        "  # print(m,m_pr,n,n_pr)\n",
        "  if (m_pr == n_pr):                 # Makes sure the nearest prime values of m and n are not same\n",
        "    n_pr = nearest_prime(n_pr)\n",
        "  n = n_pr*m_pr                      # Find n and phi values\n",
        "  phi = (n_pr-1)*(m_pr-1)\n",
        "  if (mes<=phi):                     # Condition that message should be less than phi value\n",
        "    e = relatively_prime(phi,n_pr,m_pr)  # Finds relatively prime number for e that is not equal to n and m prime values\n",
        "    # print(e,phi)\n",
        "    d = ext_euc(e,phi)               # Carries out extended Euclidean to find the value of d\n",
        "    \n",
        "    print(\"Public key = \",e,n)\n",
        "    print(\"Private key = \",d,n)\n",
        "    enc = encrypt(mes,e,n)\n",
        "    dec = decrypt(enc,d,n)\n",
        "    print(\"Encrypted value= \",enc)\n",
        "    print(\"Decrypted value= \",dec)\n",
        "  else: \n",
        "    print(\"Message is greater than phi\")\n",
        "    return"
      ]
    },
    {
      "cell_type": "code",
      "source": [
        "RSA(\"aaaaaaa\",\"aaaaaaaaaaa\",17)"
      ],
      "metadata": {
        "colab": {
          "base_uri": "https://localhost:8080/"
        },
        "id": "AYRYNtij9G-V",
        "outputId": "8b453fdd-8c6b-4ccd-b895-ea09ef3c16c0"
      },
      "execution_count": null,
      "outputs": [
        {
          "output_type": "stream",
          "name": "stdout",
          "text": [
            "\ta\tb\tquot\trem\n",
            "0\t1\t0\t-\t60\n",
            "1\t0\t1\t4\t13\n",
            "2\t1\t-4\t1\t8\n",
            "3\t-1\t5\t1\t5\n",
            "4\t2\t-9\t1\t3\n",
            "5\t-3\t14\t1\t2\n",
            "Public key =  13 77\n",
            "Private key =  37 77\n",
            "Encrypted value=  73\n",
            "Decrypted value=  17\n"
          ]
        }
      ]
    },
    {
      "cell_type": "code",
      "source": [],
      "metadata": {
        "id": "ejK-9ol6xhA3"
      },
      "execution_count": null,
      "outputs": []
    }
  ]
}