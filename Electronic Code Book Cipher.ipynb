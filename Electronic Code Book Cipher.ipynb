{
  "nbformat": 4,
  "nbformat_minor": 0,
  "metadata": {
    "colab": {
      "provenance": []
    },
    "kernelspec": {
      "name": "python3",
      "display_name": "Python 3"
    },
    "language_info": {
      "name": "python"
    }
  },
  "cells": [
    {
      "cell_type": "markdown",
      "source": [
        "Dev Patel - 60009200016\n",
        "\n",
        "IS Experiment 3 (ECB)"
      ],
      "metadata": {
        "id": "sfpj9gtNN2GK"
      }
    },
    {
      "cell_type": "code",
      "source": [
        "def encrypt(plain,key):    \n",
        "  ascii_chars = [] \n",
        "  binary = [] \n",
        "  encrypted = [] \n",
        "\n",
        "  for char in plain: \n",
        "    ascii_chars.append(ord(char)) # Converting characters into ASCII values   \n",
        "    grp_16 = bin(ord(char))[2:]   # Converting ASCII values into 16 bit binary   \n",
        "    binary.append(grp_16) \n",
        "    text = grp_16[1:] + grp_16[0] # Circular left shift  \n",
        "\n",
        "    if len(text)==6:          \n",
        "      text = \"0\" + text     \n",
        "      encrypted.append(text)   \n",
        "    else: \n",
        "      encrypted.append(text) \n",
        "\n",
        "  binary_key = bin(key)[2:] \n",
        "\n",
        "  msg = [] \n",
        "  encrypt = [] \n",
        "  for num in encrypted: \n",
        "    xor = int(num, 2)^int(binary_key, 2)   \n",
        "    msg.append(xor) \n",
        "    encrypt.append(chr(xor)) \n",
        "\n",
        "  encrypted_text = ''.join(char for char in encrypt)    \n",
        "  return(encrypted_text) "
      ],
      "metadata": {
        "id": "9yZsmVX9AKPJ"
      },
      "execution_count": null,
      "outputs": []
    },
    {
      "cell_type": "code",
      "source": [
        "pt = \"I am studying Information Security\"\n",
        "key = 16\n",
        "ct = encrypt(pt,key)\n",
        "print(\"Encrypted text: \",ct)"
      ],
      "metadata": {
        "colab": {
          "base_uri": "https://localhost:8080/"
        },
        "id": "42h95niLBZrQ",
        "outputId": "13d92f9b-bf60-41fc-9620-6d49ee8d48e8"
      },
      "execution_count": null,
      "outputs": [
        {
          "output_type": "stream",
          "name": "stdout",
          "text": [
            "Encrypted text:  \u0003\u0011SK\u0011wy{YcCM_\u0011\u0003M]OuKSyCOM\u00117[W{uCyc\n"
          ]
        }
      ]
    },
    {
      "cell_type": "code",
      "source": [
        "def decrypt(ct,key):\n",
        "  \n",
        "  real = [] \n",
        "  shifted_binary = [] \n",
        "  original_binary = [] \n",
        "  plainText = [] \n",
        "  msg = []\n",
        "  for i in ct:\n",
        "    msg.append(ord(i))\n",
        "  \n",
        "  binary_key = bin(key)[2:] \n",
        "                \n",
        "  for num in msg:                           # Backtracking XOR \n",
        "    xor_rev = int(num)^int(binary_key, 2)   # Converting into original decimal  \n",
        "    real.append(xor_rev) \n",
        "  \n",
        "    text = ''   \n",
        "    if len(bin(xor_rev)[2:]) < 7:           # Converting those decimal into og circular shifted binary   \n",
        "      text = '0'*(7 - len(bin(xor_rev)[2:])) + bin(xor_rev)[2:] \n",
        "      # print(text) \n",
        "      shifted_binary.append(text)   \n",
        "    else: \n",
        "      text = bin(xor_rev)[2:] \n",
        "      shifted_binary.append(bin(xor_rev)[2:]) \n",
        "     \n",
        "    new_text = text[-1] + text[0:-1]        # Circular Shift Right\n",
        "    original_binary.append(new_text) \n",
        "  \n",
        "    decimal = int(new_text, 2)   \n",
        "    if chr(decimal) == \"@\":     \n",
        "      plainText.append(\" \")   \n",
        "    else: \n",
        "      plainText.append(chr(decimal)) \n",
        "\n",
        "  print(f\"Decrypted Text with Key = {key} is: \") \n",
        "  pt = ''.join(char for char in plainText)\n",
        "  return pt\n"
      ],
      "metadata": {
        "id": "Q313O57RB3ob"
      },
      "execution_count": null,
      "outputs": []
    },
    {
      "cell_type": "code",
      "source": [
        "dec = decrypt(ct,key)\n",
        "print(dec)"
      ],
      "metadata": {
        "colab": {
          "base_uri": "https://localhost:8080/"
        },
        "id": "C66fndxsCWG8",
        "outputId": "9aa6d939-a1fe-41af-87e9-e9c1bd36fcb3"
      },
      "execution_count": null,
      "outputs": [
        {
          "output_type": "stream",
          "name": "stdout",
          "text": [
            "Decrypted Text with Key = 16 is: \n",
            "I am studying Information Security\n"
          ]
        }
      ]
    }
  ]
}