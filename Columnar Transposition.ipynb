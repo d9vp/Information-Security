{
  "nbformat": 4,
  "nbformat_minor": 0,
  "metadata": {
    "colab": {
      "provenance": [],
      "collapsed_sections": []
    },
    "kernelspec": {
      "name": "python3",
      "display_name": "Python 3"
    },
    "language_info": {
      "name": "python"
    }
  },
  "cells": [
    {
      "cell_type": "markdown",
      "source": [
        "### Dev Patel - 60009200016\n",
        "### Information Security Experiment 2 - Columnar Transposition Cipher\n"
      ],
      "metadata": {
        "id": "rb55pwa3rOjF"
      }
    },
    {
      "cell_type": "markdown",
      "source": [
        "### Encryption"
      ],
      "metadata": {
        "id": "P09W_4LBVWPV"
      }
    },
    {
      "cell_type": "code",
      "execution_count": 1,
      "metadata": {
        "id": "B9m_cYjLrJ5T"
      },
      "outputs": [],
      "source": [
        "def encryption(pt,key):\n",
        "  pt = pt.upper()\n",
        "  key = key.upper()\n",
        "  # pt = pt.replace(\" \",\"x\")    # replace spaces in plain text by 'x', but commented out since this feature is not required\n",
        "  # print(pt)\n",
        "  col = len(key)\n",
        "  row = (len(pt)//col) +1       # get number of rows and columns required in the matrix\n",
        "  # print(row,col)\n",
        "  mat = []\n",
        "  for i in range(row):          # making the 2D matrix required which, still, contains no values yet\n",
        "    mat.append([])\n",
        "  r = 0\n",
        "  t = 0\n",
        "  for i in range(row):\n",
        "    count=0\n",
        "    while (count < col and t<len(pt)):  # making sure the number of columns and rows are maintained\n",
        "      if(pt[t]!=\" \"): \n",
        "        mat[r].append(pt[t])    # fill the matrix with characters of plain text and removing blank spaces\n",
        "        count+=1\n",
        "      t+=1\n",
        "    r+=1\n",
        "  # print(count,r,t)\n",
        "  while(count<col):\n",
        "    mat[r-1].append(\"x\")        # fill up remaining spaces in the matrix with 'x'\n",
        "    count+=1\n",
        "  # print(mat)\n",
        "  \n",
        "  lkey = [i for i in key]       # contains characters of key\n",
        "  lind = [ord(i) for i in lkey] # contains ascill values of characters of key\n",
        "  lind.sort()\n",
        "  dic = dict()\n",
        "  count=0\n",
        "  for i in range(len(lind)):\n",
        "    for j in range(len(lkey)):\n",
        "      if (chr(lind[i])==lkey[j] and list(dic.values()).count(chr(lind[i]))!=lkey.count(chr(lind[i]))): # arrange characters of key in alphabetical order while indexing them\n",
        "        dic.update({count:lkey[j]})\n",
        "        count+=1\n",
        "  # print(dic)\n",
        "  ct = ''\n",
        "  char=[]\n",
        "  for i in range(col):\n",
        "    if (lkey.index(dic[i]) not in char):  # for singly occurring characters in the key\n",
        "      char.append(lkey.index(dic[i]))\n",
        "    else:                                 # for characters occuring multiple times in the key\n",
        "      c = lkey.index(dic[i])\n",
        "      st = key[c+1:]\n",
        "      char.append(c+st.index(dic[i])+1)\n",
        "      \n",
        "  for i in char:                          # convert matrix back to now what will be cipher text\n",
        "    for j in range(row):\n",
        "      ct = ct+ mat[j][i]\n",
        "  return (ct)\n"
      ]
    },
    {
      "cell_type": "code",
      "source": [
        "ct = encryption(\"columnar transposition\",'heaven')\n",
        "print(ct)"
      ],
      "metadata": {
        "colab": {
          "base_uri": "https://localhost:8080/"
        },
        "id": "EDmro4gRt-jI",
        "outputId": "cfdff907-27a4-4e9d-db49-313ad288c773"
      },
      "execution_count": 2,
      "outputs": [
        {
          "output_type": "stream",
          "name": "stdout",
          "text": [
            "LTONORPOMAIxCASINNTxURSx\n"
          ]
        }
      ]
    },
    {
      "cell_type": "code",
      "source": [
        "ct = encryption(\"information security\",'potato')\n",
        "print(ct)"
      ],
      "metadata": {
        "colab": {
          "base_uri": "https://localhost:8080/"
        },
        "id": "HkN4nBPCBEF9",
        "outputId": "ef45f11e-22f6-4eac-8bf1-1e647cfa5e53"
      },
      "execution_count": 3,
      "outputs": [
        {
          "output_type": "stream",
          "name": "stdout",
          "text": [
            "OORxNTCxMSTxIAEYFIUxRNIx\n"
          ]
        }
      ]
    },
    {
      "cell_type": "markdown",
      "source": [
        "### Decryption"
      ],
      "metadata": {
        "id": "ujC3uulrVaZU"
      }
    },
    {
      "cell_type": "code",
      "source": [
        "def decryption(ct,key):\n",
        "  col = len(key)\n",
        "  row = len(ct)//col              # get number of rows and columns that will be required in the matrix\n",
        "  # print(row,col)\n",
        "  mat=[[]]\n",
        "  for i in range(row):\n",
        "    for j in range(col):          # making the 2D matrix required within which all values have been assigned value 'x'\n",
        "      mat[i].append('x')\n",
        "    mat.append([])                # adding another column after one has been filled\n",
        "  mat.remove([])                  # removing the extra [] in the list\n",
        "  \n",
        "  lkey = [i for i in key]\n",
        "  lind = [ord(i) for i in lkey]\n",
        "  lind.sort()\n",
        "  dic = dict()\n",
        "  count=0\n",
        "  for i in range(len(lind)):\n",
        "    for j in range(len(lkey)):\n",
        "      if (chr(lind[i])==lkey[j] and list(dic.values()).count(chr(lind[i]))!=lkey.count(chr(lind[i]))):   # arrange characters of key in alphabetical order while indexing them\n",
        "        dic.update({count:lkey[j]})\n",
        "        count+=1\n",
        "  # print(dic)\n",
        "  pt = ''\n",
        "  char=[]                                 # for maintaining the order in which columns are to be read\n",
        "  for i in range(col):\n",
        "    if (lkey.index(dic[i]) not in char):  # for singly occurring characters in the key\n",
        "      char.append(lkey.index(dic[i]))\n",
        "    else:                                 # for characters occuring multiple times in the key\n",
        "      c = lkey.index(dic[i])\n",
        "      st = key[c+1:]\n",
        "      char.append(c+st.index(dic[i])+1)\n",
        "  # print(char)\n",
        "  t=0\n",
        "  for j in char:                          # j is the column that is to be read\n",
        "    for i in range(row):                  # reads all row values 'i' in column 'j' \n",
        "      mat[i][j] = ct[t]\n",
        "      t+=1\n",
        "  pt = ''\n",
        "  for i in range(row):\n",
        "    for j in range(col):\n",
        "      pt= pt + mat[i][j]                  # convert matrix back to plain text\n",
        "  pt = pt.replace(\"x\",\" \")                # removes the extra 'x' added while making the matrix \n",
        "  return(pt)  "
      ],
      "metadata": {
        "id": "IQt3YOBu8beg"
      },
      "execution_count": 4,
      "outputs": []
    },
    {
      "cell_type": "code",
      "source": [
        "decryption('LTONORPOMAIxCASINNTxURSx','heaven')"
      ],
      "metadata": {
        "colab": {
          "base_uri": "https://localhost:8080/",
          "height": 36
        },
        "id": "tx1kjMOc8gOy",
        "outputId": "b5dc4759-0ddc-4d32-d434-149653e8dd6a"
      },
      "execution_count": 5,
      "outputs": [
        {
          "output_type": "execute_result",
          "data": {
            "text/plain": [
              "'COLUMNARTRANSPOSITION   '"
            ],
            "application/vnd.google.colaboratory.intrinsic+json": {
              "type": "string"
            }
          },
          "metadata": {},
          "execution_count": 5
        }
      ]
    },
    {
      "cell_type": "code",
      "source": [
        "decryption('OORxNTCxMSTxIAEYFIUxRNIx','potato')"
      ],
      "metadata": {
        "colab": {
          "base_uri": "https://localhost:8080/",
          "height": 36
        },
        "id": "6H_CXvIiB6VX",
        "outputId": "4abd3691-e569-4ec9-e9bf-f155acfbdb9c"
      },
      "execution_count": 6,
      "outputs": [
        {
          "output_type": "execute_result",
          "data": {
            "text/plain": [
              "'INFORMATIONSECURITY     '"
            ],
            "application/vnd.google.colaboratory.intrinsic+json": {
              "type": "string"
            }
          },
          "metadata": {},
          "execution_count": 6
        }
      ]
    },
    {
      "cell_type": "markdown",
      "source": [
        "### Double Encryption using Columnar Transposition"
      ],
      "metadata": {
        "id": "0o-rcHTwVfI6"
      }
    },
    {
      "cell_type": "code",
      "source": [
        "def double_enc(pt,key1,key2):              # double encryption is performed\n",
        "  ct1 = encryption(pt,key1)\n",
        "  ct2 = encryption(ct1,key2)\n",
        "  return ct2"
      ],
      "metadata": {
        "id": "j3DaYjQa1gId"
      },
      "execution_count": 7,
      "outputs": []
    },
    {
      "cell_type": "code",
      "source": [
        "double_enc('columnar transposition','heaven','potato')"
      ],
      "metadata": {
        "colab": {
          "base_uri": "https://localhost:8080/",
          "height": 36
        },
        "id": "nq8cHlxk5x7R",
        "outputId": "6162f3fe-c79a-4135-a3a9-dbd0aecfe2b7"
      },
      "execution_count": 8,
      "outputs": [
        {
          "output_type": "execute_result",
          "data": {
            "text/plain": [
              "'NAIRxTOAXxRXNXxLPCTxOMSUxOINSx'"
            ],
            "application/vnd.google.colaboratory.intrinsic+json": {
              "type": "string"
            }
          },
          "metadata": {},
          "execution_count": 8
        }
      ]
    }
  ]
}